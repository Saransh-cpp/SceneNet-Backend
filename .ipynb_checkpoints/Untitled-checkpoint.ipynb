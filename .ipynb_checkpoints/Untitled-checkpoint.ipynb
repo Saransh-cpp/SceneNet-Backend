{
 "cells": [
  {
   "cell_type": "code",
   "execution_count": 30,
   "id": "94c2a63c",
   "metadata": {},
   "outputs": [],
   "source": [
    "import cv2\n",
    "import numpy as np\n",
    "import pandas as pd\n",
    "from glob import glob\n",
    "from PIL import Image\n",
    "from keras.models import Sequential\n",
    "from keras.applications.vgg19 import VGG19\n",
    "from keras.layers import Input, Lambda, Dense, Flatten\n",
    "from keras.preprocessing.image import ImageDataGenerator"
   ]
  },
  {
   "cell_type": "code",
   "execution_count": 2,
   "id": "e19a1ee9",
   "metadata": {},
   "outputs": [],
   "source": [
    "folders = glob('indoorCVPR_09/Images/*')\n",
    "vgg19 = VGG19(input_shape=(224, 224, 3), weights='imagenet', include_top=False)\n",
    "vgg19.trainable = False"
   ]
  },
  {
   "cell_type": "code",
   "execution_count": 3,
   "id": "d8653ce4",
   "metadata": {},
   "outputs": [
    {
     "name": "stdout",
     "output_type": "stream",
     "text": [
      "Model: \"sequential\"\n",
      "_________________________________________________________________\n",
      "Layer (type)                 Output Shape              Param #   \n",
      "=================================================================\n",
      "vgg19 (Functional)           (None, 7, 7, 512)         20024384  \n",
      "_________________________________________________________________\n",
      "flatten (Flatten)            (None, 25088)             0         \n",
      "_________________________________________________________________\n",
      "dense (Dense)                (None, 67)                1680963   \n",
      "=================================================================\n",
      "Total params: 21,705,347\n",
      "Trainable params: 1,680,963\n",
      "Non-trainable params: 20,024,384\n",
      "_________________________________________________________________\n"
     ]
    }
   ],
   "source": [
    "flatten_layer = Flatten()\n",
    "prediction_layer = Dense(len(folders), activation='softmax')\n",
    "\n",
    "model = Sequential([\n",
    "    vgg19,\n",
    "    flatten_layer,\n",
    "    prediction_layer\n",
    "])\n",
    "\n",
    "# view the structure of the model\n",
    "model.summary()"
   ]
  },
  {
   "cell_type": "code",
   "execution_count": 4,
   "id": "ce757198",
   "metadata": {},
   "outputs": [],
   "source": [
    "model.compile(\n",
    "    loss='categorical_crossentropy',\n",
    "    optimizer='adam',\n",
    "    metrics=['accuracy'],\n",
    ")"
   ]
  },
  {
   "cell_type": "code",
   "execution_count": 5,
   "id": "37298688",
   "metadata": {},
   "outputs": [
    {
     "name": "stdout",
     "output_type": "stream",
     "text": [
      "Found 15620 images belonging to 67 classes.\n",
      "Found 3098 images belonging to 67 classes.\n"
     ]
    },
    {
     "data": {
      "text/plain": [
       "(<keras.preprocessing.image.DirectoryIterator at 0x15081d73d00>,\n",
       " <keras.preprocessing.image.DirectoryIterator at 0x150f3181f40>)"
      ]
     },
     "execution_count": 5,
     "metadata": {},
     "output_type": "execute_result"
    }
   ],
   "source": [
    "train_datagen = ImageDataGenerator(rescale=1./255)\n",
    "\n",
    "test_datagen = ImageDataGenerator(rescale=1./255, validation_split=0.2)\n",
    "\n",
    "training_set = train_datagen.flow_from_directory('indoorCVPR_09/Images/',\n",
    "                                                 target_size=(224, 224),\n",
    "                                                 batch_size=32,\n",
    "                                                 subset=\"training\",\n",
    "                                                 class_mode='categorical')\n",
    "\n",
    "test_set = test_datagen.flow_from_directory('indoorCVPR_09/Images/',\n",
    "                                            target_size=(224, 224),\n",
    "                                            batch_size=32,\n",
    "                                            subset=\"validation\",\n",
    "                                            class_mode='categorical')\n",
    "\n",
    "test_set, training_set"
   ]
  },
  {
   "cell_type": "code",
   "execution_count": 6,
   "id": "1e1cce9c",
   "metadata": {},
   "outputs": [
    {
     "name": "stdout",
     "output_type": "stream",
     "text": [
      "Epoch 1/5\n",
      "489/489 [==============================] - 509s 1s/step - loss: 3.1153 - accuracy: 0.3682 - val_loss: 0.9737 - val_accuracy: 0.7269\n",
      "Epoch 2/5\n",
      "489/489 [==============================] - 311s 636ms/step - loss: 0.9247 - accuracy: 0.7472 - val_loss: 0.5606 - val_accuracy: 0.8325\n",
      "Epoch 3/5\n",
      "489/489 [==============================] - 236s 482ms/step - loss: 0.4137 - accuracy: 0.8762 - val_loss: 0.2410 - val_accuracy: 0.9287\n",
      "Epoch 4/5\n",
      "489/489 [==============================] - 232s 475ms/step - loss: 0.2457 - accuracy: 0.9318 - val_loss: 0.3289 - val_accuracy: 0.9187\n",
      "Epoch 5/5\n",
      "489/489 [==============================] - 227s 463ms/step - loss: 0.1706 - accuracy: 0.9520 - val_loss: 0.1762 - val_accuracy: 0.9496\n"
     ]
    },
    {
     "data": {
      "text/plain": [
       "<keras.callbacks.History at 0x150c86c4ca0>"
      ]
     },
     "execution_count": 6,
     "metadata": {},
     "output_type": "execute_result"
    }
   ],
   "source": [
    "model.fit(\n",
    "    training_set,\n",
    "    validation_data=test_set,\n",
    "    epochs=5,\n",
    "    batch_size=32,\n",
    ")"
   ]
  },
  {
   "cell_type": "code",
   "execution_count": 22,
   "id": "fcb9febb",
   "metadata": {},
   "outputs": [
    {
     "data": {
      "text/plain": [
       "(array([[[0.78823529, 0.83921569, 0.8       ],\n",
       "         [0.76862745, 0.83137255, 0.79607843],\n",
       "         [0.63529412, 0.70588235, 0.6745098 ],\n",
       "         ...,\n",
       "         [0.50196078, 0.30588235, 0.32156863],\n",
       "         [0.4627451 , 0.48235294, 0.47058824],\n",
       "         [0.55294118, 0.60392157, 0.58823529]],\n",
       " \n",
       "        [[0.52941176, 0.62745098, 0.58823529],\n",
       "         [0.44313725, 0.55294118, 0.51764706],\n",
       "         [0.41176471, 0.52941176, 0.49411765],\n",
       "         ...,\n",
       "         [0.78823529, 0.60392157, 0.61960784],\n",
       "         [0.43529412, 0.42745098, 0.42352941],\n",
       "         [0.54117647, 0.57647059, 0.56470588]],\n",
       " \n",
       "        [[0.27843137, 0.2745098 , 0.2627451 ],\n",
       "         [0.30588235, 0.28235294, 0.27058824],\n",
       "         [0.28627451, 0.2745098 , 0.25882353],\n",
       "         ...,\n",
       "         [0.99607843, 0.93333333, 0.94901961],\n",
       "         [0.41960784, 0.36078431, 0.36862745],\n",
       "         [0.53333333, 0.54901961, 0.54117647]],\n",
       " \n",
       "        ...,\n",
       " \n",
       "        [[0.25882353, 0.25882353, 0.22352941],\n",
       "         [0.20784314, 0.19607843, 0.17647059],\n",
       "         [0.23137255, 0.23921569, 0.22352941],\n",
       "         ...,\n",
       "         [0.44705882, 0.43921569, 0.43921569],\n",
       "         [0.29019608, 0.27843137, 0.25882353],\n",
       "         [0.23529412, 0.22352941, 0.2       ]],\n",
       " \n",
       "        [[0.34509804, 0.32156863, 0.30196078],\n",
       "         [0.36862745, 0.3372549 , 0.3372549 ],\n",
       "         [0.41176471, 0.40392157, 0.4       ],\n",
       "         ...,\n",
       "         [0.48235294, 0.47058824, 0.47843137],\n",
       "         [0.29411765, 0.29019608, 0.25490196],\n",
       "         [0.30196078, 0.30196078, 0.25490196]],\n",
       " \n",
       "        [[0.21176471, 0.17647059, 0.16470588],\n",
       "         [0.27843137, 0.23921569, 0.23921569],\n",
       "         [0.26666667, 0.24705882, 0.25490196],\n",
       "         ...,\n",
       "         [0.51764706, 0.50196078, 0.51764706],\n",
       "         [0.4       , 0.41568627, 0.39215686],\n",
       "         [0.32156863, 0.34117647, 0.30196078]]]),\n",
       " (224, 224, 3))"
      ]
     },
     "execution_count": 22,
     "metadata": {},
     "output_type": "execute_result"
    }
   ],
   "source": [
    "img = cv2.imread(r\"indoorCVPR_09\\Images\\airport_inside\\airport_inside_0001.jpg\")\n",
    "# img = cv2.cvtColor(img, cv2.COLOR_BGR2RGB)\n",
    "img = cv2.resize(img, (224, 224))\n",
    "img = img / 255.0\n",
    "img, img.shape"
   ]
  },
  {
   "cell_type": "code",
   "execution_count": 26,
   "id": "d9f4e5e8",
   "metadata": {},
   "outputs": [
    {
     "data": {
      "text/plain": [
       "array([[7.9936588e-01, 1.1868095e-10, 3.2761275e-08, 1.2052773e-08,\n",
       "        7.8252578e-09, 3.1970232e-14, 8.2311406e-12, 4.1141285e-10,\n",
       "        2.7993417e-11, 4.6026083e-17, 4.6547655e-10, 6.2480403e-14,\n",
       "        5.9166519e-11, 1.4200301e-13, 9.1801633e-10, 3.4385001e-17,\n",
       "        1.0253305e-14, 2.6726363e-09, 1.5677291e-08, 1.5812341e-06,\n",
       "        1.9219866e-07, 3.0537558e-12, 2.7333206e-08, 1.2625512e-12,\n",
       "        3.4916070e-11, 1.8157005e-15, 6.6909936e-11, 3.2807511e-14,\n",
       "        1.5683236e-07, 1.0165961e-04, 3.7285997e-10, 9.2004610e-14,\n",
       "        1.7077307e-15, 4.8635154e-12, 7.3540722e-11, 1.4575465e-07,\n",
       "        1.1850874e-15, 5.4510935e-10, 8.2230645e-07, 3.9558641e-09,\n",
       "        2.6897044e-04, 2.5443706e-11, 8.4082352e-10, 2.0325301e-06,\n",
       "        1.6460487e-07, 1.9660662e-11, 1.0823175e-12, 6.3221983e-06,\n",
       "        2.1406448e-13, 3.4218892e-13, 2.9209188e-09, 1.5581063e-12,\n",
       "        1.8422508e-04, 2.3497633e-11, 1.8332378e-09, 6.3727669e-14,\n",
       "        4.3397366e-10, 6.8112269e-07, 1.4168379e-09, 1.6641269e-04,\n",
       "        3.3864256e-09, 1.9966103e-01, 8.5916510e-11, 5.4097745e-07,\n",
       "        5.2752122e-11, 2.3842158e-04, 6.3180966e-07]], dtype=float32)"
      ]
     },
     "execution_count": 26,
     "metadata": {},
     "output_type": "execute_result"
    }
   ],
   "source": [
    "model.predict(np.array([img]))"
   ]
  },
  {
   "cell_type": "code",
   "execution_count": 29,
   "id": "e10799ff",
   "metadata": {},
   "outputs": [
    {
     "name": "stdout",
     "output_type": "stream",
     "text": [
      "Found 15620 images belonging to 67 classes.\n"
     ]
    },
    {
     "name": "stderr",
     "output_type": "stream",
     "text": [
      "c:\\users\\saransh\\saransh_softwares\\python_3.9\\lib\\site-packages\\keras\\engine\\training.py:2035: UserWarning: `Model.predict_generator` is deprecated and will be removed in a future version. Please use `Model.predict`, which supports generators.\n",
      "  warnings.warn('`Model.predict_generator` is deprecated and '\n"
     ]
    },
    {
     "name": "stdout",
     "output_type": "stream",
     "text": [
      "489/489 [==============================] - 208s 426ms/step\n"
     ]
    },
    {
     "ename": "NameError",
     "evalue": "name 'pd' is not defined",
     "output_type": "error",
     "traceback": [
      "\u001b[1;31m---------------------------------------------------------------------------\u001b[0m",
      "\u001b[1;31mNameError\u001b[0m                                 Traceback (most recent call last)",
      "\u001b[1;32m~\\AppData\\Local\\Temp/ipykernel_21156/2687878524.py\u001b[0m in \u001b[0;36m<module>\u001b[1;34m\u001b[0m\n\u001b[0;32m     10\u001b[0m \u001b[1;31m# Get filenames (set shuffle=false in generator is important)\u001b[0m\u001b[1;33m\u001b[0m\u001b[1;33m\u001b[0m\u001b[1;33m\u001b[0m\u001b[0m\n\u001b[0;32m     11\u001b[0m \u001b[0mfilenames\u001b[0m\u001b[1;33m=\u001b[0m\u001b[0mtest_generator\u001b[0m\u001b[1;33m.\u001b[0m\u001b[0mfilenames\u001b[0m\u001b[1;33m\u001b[0m\u001b[1;33m\u001b[0m\u001b[0m\n\u001b[1;32m---> 12\u001b[1;33m \u001b[0mresults\u001b[0m\u001b[1;33m=\u001b[0m\u001b[0mpd\u001b[0m\u001b[1;33m.\u001b[0m\u001b[0mDataFrame\u001b[0m\u001b[1;33m(\u001b[0m\u001b[1;33m{\u001b[0m\u001b[1;34m\"file\"\u001b[0m\u001b[1;33m:\u001b[0m\u001b[0mfilenames\u001b[0m\u001b[1;33m,\u001b[0m\u001b[1;34m\"pr\"\u001b[0m\u001b[1;33m:\u001b[0m\u001b[0mpred\u001b[0m\u001b[1;33m[\u001b[0m\u001b[1;33m:\u001b[0m\u001b[1;33m,\u001b[0m\u001b[1;36m0\u001b[0m\u001b[1;33m]\u001b[0m\u001b[1;33m,\u001b[0m \u001b[1;34m\"class\"\u001b[0m\u001b[1;33m:\u001b[0m\u001b[0mcl\u001b[0m\u001b[1;33m[\u001b[0m\u001b[1;33m:\u001b[0m\u001b[1;33m,\u001b[0m\u001b[1;36m0\u001b[0m\u001b[1;33m]\u001b[0m\u001b[1;33m}\u001b[0m\u001b[1;33m)\u001b[0m\u001b[1;33m\u001b[0m\u001b[1;33m\u001b[0m\u001b[0m\n\u001b[0m",
      "\u001b[1;31mNameError\u001b[0m: name 'pd' is not defined"
     ]
    }
   ],
   "source": [
    "test_datagen = ImageDataGenerator(rescale=1./255)\n",
    "test_generator = test_datagen.flow_from_directory(\n",
    "        'indoorCVPR_09/Images/',\n",
    "        target_size=(224, 224),\n",
    "        batch_size=32,\n",
    "        class_mode='categorical',\n",
    "        shuffle=False)\n",
    "pred=model.predict(test_generator, steps=len(test_generator), verbose=1)\n",
    "cl = np.round(pred)\n",
    "# Get filenames (set shuffle=false in generator is important)\n",
    "filenames=test_generator.filenames\n",
    "\n"
   ]
  },
  {
   "cell_type": "code",
   "execution_count": 31,
   "id": "130d9e78",
   "metadata": {},
   "outputs": [],
   "source": [
    "results=pd.DataFrame({\"file\":filenames,\"pr\":pred[:,0], \"class\":cl[:,0]})"
   ]
  },
  {
   "cell_type": "code",
   "execution_count": 32,
   "id": "6cfd17d9",
   "metadata": {},
   "outputs": [
    {
     "data": {
      "text/html": [
       "<div>\n",
       "<style scoped>\n",
       "    .dataframe tbody tr th:only-of-type {\n",
       "        vertical-align: middle;\n",
       "    }\n",
       "\n",
       "    .dataframe tbody tr th {\n",
       "        vertical-align: top;\n",
       "    }\n",
       "\n",
       "    .dataframe thead th {\n",
       "        text-align: right;\n",
       "    }\n",
       "</style>\n",
       "<table border=\"1\" class=\"dataframe\">\n",
       "  <thead>\n",
       "    <tr style=\"text-align: right;\">\n",
       "      <th></th>\n",
       "      <th>file</th>\n",
       "      <th>pr</th>\n",
       "      <th>class</th>\n",
       "    </tr>\n",
       "  </thead>\n",
       "  <tbody>\n",
       "    <tr>\n",
       "      <th>0</th>\n",
       "      <td>airport_inside\\airport_inside_0001.jpg</td>\n",
       "      <td>9.716427e-01</td>\n",
       "      <td>1.0</td>\n",
       "    </tr>\n",
       "    <tr>\n",
       "      <th>1</th>\n",
       "      <td>airport_inside\\airport_inside_0002.jpg</td>\n",
       "      <td>9.889774e-01</td>\n",
       "      <td>1.0</td>\n",
       "    </tr>\n",
       "    <tr>\n",
       "      <th>2</th>\n",
       "      <td>airport_inside\\airport_inside_0003.jpg</td>\n",
       "      <td>7.595363e-01</td>\n",
       "      <td>1.0</td>\n",
       "    </tr>\n",
       "    <tr>\n",
       "      <th>3</th>\n",
       "      <td>airport_inside\\airport_inside_0004.jpg</td>\n",
       "      <td>8.586267e-01</td>\n",
       "      <td>1.0</td>\n",
       "    </tr>\n",
       "    <tr>\n",
       "      <th>4</th>\n",
       "      <td>airport_inside\\airport_inside_0005.jpg</td>\n",
       "      <td>6.613089e-01</td>\n",
       "      <td>1.0</td>\n",
       "    </tr>\n",
       "    <tr>\n",
       "      <th>...</th>\n",
       "      <td>...</td>\n",
       "      <td>...</td>\n",
       "      <td>...</td>\n",
       "    </tr>\n",
       "    <tr>\n",
       "      <th>15615</th>\n",
       "      <td>winecellar\\wine_storage_36_01_altavista.jpg</td>\n",
       "      <td>4.088429e-08</td>\n",
       "      <td>0.0</td>\n",
       "    </tr>\n",
       "    <tr>\n",
       "      <th>15616</th>\n",
       "      <td>winecellar\\wine_storage_37_13_altavista.jpg</td>\n",
       "      <td>1.996106e-07</td>\n",
       "      <td>0.0</td>\n",
       "    </tr>\n",
       "    <tr>\n",
       "      <th>15617</th>\n",
       "      <td>winecellar\\wine_storage_38_17_altavista.jpg</td>\n",
       "      <td>7.986429e-08</td>\n",
       "      <td>0.0</td>\n",
       "    </tr>\n",
       "    <tr>\n",
       "      <th>15618</th>\n",
       "      <td>winecellar\\wine_storage_42_02_altavista.jpg</td>\n",
       "      <td>8.723669e-08</td>\n",
       "      <td>0.0</td>\n",
       "    </tr>\n",
       "    <tr>\n",
       "      <th>15619</th>\n",
       "      <td>winecellar\\wine_storage_42_07_altavista.jpg</td>\n",
       "      <td>8.973410e-07</td>\n",
       "      <td>0.0</td>\n",
       "    </tr>\n",
       "  </tbody>\n",
       "</table>\n",
       "<p>15620 rows × 3 columns</p>\n",
       "</div>"
      ],
      "text/plain": [
       "                                              file            pr  class\n",
       "0           airport_inside\\airport_inside_0001.jpg  9.716427e-01    1.0\n",
       "1           airport_inside\\airport_inside_0002.jpg  9.889774e-01    1.0\n",
       "2           airport_inside\\airport_inside_0003.jpg  7.595363e-01    1.0\n",
       "3           airport_inside\\airport_inside_0004.jpg  8.586267e-01    1.0\n",
       "4           airport_inside\\airport_inside_0005.jpg  6.613089e-01    1.0\n",
       "...                                            ...           ...    ...\n",
       "15615  winecellar\\wine_storage_36_01_altavista.jpg  4.088429e-08    0.0\n",
       "15616  winecellar\\wine_storage_37_13_altavista.jpg  1.996106e-07    0.0\n",
       "15617  winecellar\\wine_storage_38_17_altavista.jpg  7.986429e-08    0.0\n",
       "15618  winecellar\\wine_storage_42_02_altavista.jpg  8.723669e-08    0.0\n",
       "15619  winecellar\\wine_storage_42_07_altavista.jpg  8.973410e-07    0.0\n",
       "\n",
       "[15620 rows x 3 columns]"
      ]
     },
     "execution_count": 32,
     "metadata": {},
     "output_type": "execute_result"
    }
   ],
   "source": [
    "results"
   ]
  },
  {
   "cell_type": "code",
   "execution_count": 35,
   "id": "bc3f349c",
   "metadata": {},
   "outputs": [],
   "source": [
    "import tensorflow as tf\n",
    "imgs = tf.data.Dataset.list_files(\"indoorCVPR_09/Images/*/*\", shuffle=False)"
   ]
  },
  {
   "cell_type": "code",
   "execution_count": 36,
   "id": "a2cd5a49",
   "metadata": {},
   "outputs": [
    {
     "name": "stdout",
     "output_type": "stream",
     "text": [
      "b'indoorCVPR_09\\\\Images\\\\airport_inside\\\\airport_inside_0001.jpg'\n",
      "b'indoorCVPR_09\\\\Images\\\\airport_inside\\\\airport_inside_0002.jpg'\n",
      "b'indoorCVPR_09\\\\Images\\\\airport_inside\\\\airport_inside_0003.jpg'\n"
     ]
    }
   ],
   "source": [
    "for img in imgs.take(3):\n",
    "    print(img.numpy())"
   ]
  },
  {
   "cell_type": "code",
   "execution_count": null,
   "id": "1818de60",
   "metadata": {},
   "outputs": [],
   "source": []
  }
 ],
 "metadata": {
  "kernelspec": {
   "display_name": "Python 3 (ipykernel)",
   "language": "python",
   "name": "python3"
  },
  "language_info": {
   "codemirror_mode": {
    "name": "ipython",
    "version": 3
   },
   "file_extension": ".py",
   "mimetype": "text/x-python",
   "name": "python",
   "nbconvert_exporter": "python",
   "pygments_lexer": "ipython3",
   "version": "3.9.0"
  }
 },
 "nbformat": 4,
 "nbformat_minor": 5
}
